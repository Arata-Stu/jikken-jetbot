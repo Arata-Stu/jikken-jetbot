{
 "cells": [
  {
   "cell_type": "code",
   "execution_count": null,
   "id": "2ad864bf",
   "metadata": {},
   "outputs": [],
   "source": [
    "!pip3 install Jetson.GPIO\n",
    "import Jetson.GPIO as GPIO\n",
    "from jetbot import Robot\n",
    "import time\n",
    "robot = Robot()"
   ]
  },
  {
   "cell_type": "code",
   "execution_count": null,
   "id": "b5776342",
   "metadata": {},
   "outputs": [],
   "source": [
    "move = [] #[左-1,前0,右1],[はやい、おそい、とまる]\n",
    "\n",
    "#rad = \n",
    "\n",
    "#x =\n",
    "\n",
    "#speed =\n",
    "\n",
    "#はやさの判定\n",
    "if far: #rad<\n",
    "    #speed = fast\n",
    "elif just: #<rad or rad<\n",
    "    #speed = slow\n",
    "elif near: #<rad\n",
    "    #speed = 0\n",
    "\n",
    "#ついていく＆経路のきろく\n",
    "if left: \n",
    "    #robot.left(speed)\n",
    "    move.insert(0,[-1,speed])\n",
    "    #sleep(0.1)\n",
    "    #robot.stop()\n",
    "elif forward:\n",
    "    #robot.forward(speed)\n",
    "    move.insert(0,[0,speed])\n",
    "    #sleep(0.1)\n",
    "    #robot.stop()\n",
    "elif right:\n",
    "    #robot.right(speed)\n",
    "    move.insert(0,[1,speed])\n",
    "    #sleep(0.1)\n",
    "    #robot.stop()"
   ]
  },
  {
   "cell_type": "code",
   "execution_count": null,
   "id": "f1a1af26",
   "metadata": {},
   "outputs": [],
   "source": []
  }
 ],
 "metadata": {
  "kernelspec": {
   "display_name": "Python 3 (ipykernel)",
   "language": "python",
   "name": "python3"
  },
  "language_info": {
   "codemirror_mode": {
    "name": "ipython",
    "version": 3
   },
   "file_extension": ".py",
   "mimetype": "text/x-python",
   "name": "python",
   "nbconvert_exporter": "python",
   "pygments_lexer": "ipython3",
   "version": "3.8.16"
  }
 },
 "nbformat": 4,
 "nbformat_minor": 5
}
