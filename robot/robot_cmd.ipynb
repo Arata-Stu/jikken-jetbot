{
 "cells": [
  {
   "cell_type": "code",
   "execution_count": null,
   "metadata": {},
   "outputs": [],
   "source": [
    "import sys\n",
    "sys.path.append('../train')\n",
    "\n",
    "import ipywidgets.widgets as widgets\n",
    "from IPython.display import display\n",
    "import traitlets\n",
    "import numpy as np\n",
    "from PIL import Image\n",
    "import torch\n",
    "from torchvision import transforms\n",
    "import cv2\n",
    "import threading\n",
    "import time\n",
    "\n",
    "from learn import SimpleCNN,CustomResNet,CustomCircleDataset\n",
    "from jetbot import Robot, Camera, bgr8_to_jpeg\n",
    "import Jetson.GPIO as GPIO"
   ]
  },
  {
   "cell_type": "markdown",
   "metadata": {},
   "source": [
    "## カメラ"
   ]
  },
  {
   "cell_type": "code",
   "execution_count": null,
   "metadata": {},
   "outputs": [],
   "source": [
    "camera = Camera.instance()\n",
    "\n"
   ]
  },
  {
   "cell_type": "markdown",
   "metadata": {},
   "source": [
    "## GUI"
   ]
  },
  {
   "cell_type": "code",
   "execution_count": null,
   "metadata": {},
   "outputs": [],
   "source": [
    "widget_width = 224\n",
    "widget_height = 224\n",
    "\n",
    "camera_widget = widgets.Image(format='jpg', width=widget_width, height=widget_height)\n",
    "target_widget = widgets.Image(format='jpg', width=widget_width, height=widget_height)\n",
    "image_layout = widgets.HBox([camera_widget])\n",
    "\n",
    "#mask slider\n",
    "low_h_slider = widgets.IntSlider(description='low h', min=0, max=179, value=90,step=1)\n",
    "high_h_slider = widgets.IntSlider(description=' high h', min=0, max=179, value=100,step=1)\n",
    "low_s_slider = widgets.IntSlider(description=' low s', min=0, max=255, value=140,step=1)\n",
    "high_s_slider = widgets.IntSlider(description=' high s', min=0, max=255, value=255,step=1)\n",
    "low_v_slider = widgets.IntSlider(description=' low v', min=0, max=255, value=0,step=1)\n",
    "high_v_slider = widgets.IntSlider(description=' high v', min=0, max=255, value=255,step=1)\n",
    "\n",
    "h_slider = widgets.HBox([low_h_slider, high_h_slider])\n",
    "s_slider = widgets.HBox([low_s_slider, high_s_slider])\n",
    "v_slider = widgets.HBox([low_v_slider, high_v_slider])\n",
    "slider = widgets.VBox([h_slider,s_slider,v_slider])\n",
    "\n",
    "#robot param slider\n",
    "far_slider = widgets.IntSlider(description='far rad', min=0, max=100, value=20,step=1)\n",
    "near_slider = widgets.IntSlider(description=' near rad', min=0, max=100, value=30,step=1)\n",
    "speed_slider = widgets.FloatSlider(description='speed', min=0, max=1.0, value=0,step=0.1)\n",
    "interval_slider = widgets.FloatSlider(description=' interval', min=0, max=5.0, value=0.5,step=0.1)\n",
    "robot_slider = widgets.VBox([far_slider, near_slider, speed_slider, interval_slider])\n",
    "\n",
    "layout = widgets.Layout(width='128px', height='64px')\n",
    "snap_button = widgets.Button(description='snapshot', button_style='success', layout=layout)\n",
    "percent = widgets.IntText(layout = layout,value = 0)\n",
    "gui_layout =  widgets.HBox([image_layout,percent])"
   ]
  },
  {
   "cell_type": "markdown",
   "metadata": {},
   "source": [
    "## モデル"
   ]
  },
  {
   "cell_type": "code",
   "execution_count": null,
   "metadata": {},
   "outputs": [],
   "source": [
    "# デバイスの設定（CUDAが利用可能な場合はGPUを使用）\n",
    "device = torch.device('cuda' if torch.cuda.is_available() else 'cpu')\n",
    "# モデルのインスタンスを作成\n",
    "model = SimpleCNN()\n",
    "# モデルの重みをロードし、推論モードに設定\n",
    "model.load_state_dict(torch.load('../train/weight/simpleCNN_v3.pth'))\n",
    "model.to(device)  # モデルをGPUに移動\n",
    "model.eval()"
   ]
  },
  {
   "cell_type": "markdown",
   "metadata": {},
   "source": [
    "## グローバル変数"
   ]
  },
  {
   "cell_type": "code",
   "execution_count": null,
   "metadata": {},
   "outputs": [],
   "source": [
    "x, y, r = 0, 0, 0\n",
    "#マルチスレッドで競合しないようにロック\n",
    "lock = threading.Lock()"
   ]
  },
  {
   "cell_type": "markdown",
   "metadata": {},
   "source": [
    "## 関数定義"
   ]
  },
  {
   "cell_type": "code",
   "execution_count": null,
   "metadata": {},
   "outputs": [],
   "source": [
    "def model_input(image,model,device):\n",
    "    pil_image = Image.fromarray(cv2.cvtColor(image, cv2.COLOR_BGR2RGB))\n",
    "    transform = transforms.Compose([\n",
    "            transforms.Resize((224, 224)),\n",
    "            transforms.ToTensor(),\n",
    "            transforms.Normalize((0.5, 0.5, 0.5), (0.5, 0.5, 0.5)),\n",
    "    ])\n",
    "    img_tonsor = transform(pil_image).unsqueeze(0).to(device)  # テンソルをGPUに移動\n",
    "    \n",
    "    with torch.no_grad():\n",
    "            outputs = model(img_tonsor)\n",
    "            predicted_coords = outputs.cpu().numpy()[0]  # 結果をCPUに戻す\n",
    "            pos_x, pos_y, pos_r = predicted_coords\n",
    "            return pos_x, pos_y, pos_r\n",
    "        \n",
    "\n",
    "#マスク処理する関数\n",
    "def apply_hsv_threshold(image):\n",
    "#     low_h, high_h = 91, 103  # Example range for yellow hue\n",
    "#     low_s, high_s = 200, 255 # Example range for saturation\n",
    "#     low_v, high_v = 140, 255 # Example range for value\n",
    "    low_h, high_h = low_h_slider.value, high_h_slider.value\n",
    "    low_s, high_s = low_s_slider.value, high_s_slider.value\n",
    "    low_v, high_v = low_v_slider.value, high_v_slider.value\n",
    "\n",
    "    # Convert the image from RGB to HSV\n",
    "    hsv_image = cv2.cvtColor(image, cv2.COLOR_RGB2HSV)\n",
    "    \n",
    "    # Define the lower and upper bounds of the HSV threshold\n",
    "    lower_bound = np.array([low_h, low_s, low_v])\n",
    "    upper_bound = np.array([high_h, high_s, high_v])\n",
    "    \n",
    "    # Create a mask where pixels within the threshold are white, and others are black\n",
    "    mask = cv2.inRange(hsv_image, lower_bound, upper_bound)\n",
    "    \n",
    "    # Create an all black image\n",
    "    black_image = np.zeros_like(image)\n",
    "    \n",
    "    # Copy the pixels from the original image where the mask is white\n",
    "    result_image = np.where(mask[:, :, None] == 255, image, black_image)\n",
    "    \n",
    "    return result_image\n",
    "\n"
   ]
  },
  {
   "cell_type": "code",
   "execution_count": null,
   "metadata": {},
   "outputs": [],
   "source": [
    "def update_image(camera_image):\n",
    "    global x, y, r, lock\n",
    "    # 画像処理ロジックをここに追加\n",
    "    image = np.copy(camera_image)\n",
    "    processed_frame = apply_hsv_threshold(image)\n",
    "    # ... その他の画像処理\n",
    "    \n",
    "    global model,device\n",
    "    with lock:\n",
    "        # ロックを取得してからグローバル変数を更新\n",
    "        x, y, r = model_input(processed_frame, model, device)\n",
    "        x = int(x * image.shape[1])\n",
    "        y = int(y * image.shape[0])\n",
    "        r = int(r * (image.shape[1] * 1.414))\n",
    "        if r < 0:\n",
    "            r = 0\n",
    "            \n",
    "    processed_image = cv2.circle(processed_frame, (x, y), r, (0, 255, 0), 2)\n",
    "    \n",
    "    # processed_frameに基づいてimg_with_circleを更新\n",
    "    jpeg_img = bgr8_to_jpeg(processed_image)\n",
    "    # processed_frameに基づいてimg_with_circleを更新\n",
    "    return jpeg_img\n",
    "\n",
    "traitlets.dlink((camera, 'value'), (camera_widget, 'value'), transform=update_image)"
   ]
  },
  {
   "cell_type": "code",
   "execution_count": null,
   "metadata": {},
   "outputs": [],
   "source": [
    "left_layout = widgets.VBox([image_layout,slider])\n",
    "right_layout = widgets.VBox([robot_slider])\n",
    "layout_ui = widgets.HBox([left_layout, right_layout])\n",
    "display(layout_ui)"
   ]
  },
  {
   "cell_type": "code",
   "execution_count": null,
   "metadata": {},
   "outputs": [],
   "source": [
    "robot = Robot()\n",
    "move = [] #[[左,右],...]\n",
    "\n",
    "GPIO.cleanup()\n",
    "GPIO.setmode(GPIO.BOARD)\n",
    "GPIO.setup(31,GPIO.IN) #トグルスイッチ左\n",
    "GPIO.setup(33,GPIO.OUT) #トグルスイッチ中，ボタンHIGH側\n",
    "GPIO.setup(35,GPIO.IN) #トグルスイッチ右\n",
    "GPIO.setup(37,GPIO.IN) #ボタンLOW側\n",
    "\n",
    "GPIO.output(33,GPIO.HIGH) #HIGH出力\n",
    "\n",
    "def sigmoid(x, k=0.06, x0=112):\n",
    "    print(\"sigmoid\")\n",
    "    if x==0:\n",
    "        return 0\n",
    "    else:\n",
    "        return 2 / (1 + np.exp(-k * (x - x0)))\n",
    "\n",
    "def set_speed(r):\n",
    "    print(\"set speed\")\n",
    "    #はやさの判定\n",
    "    if r<far_slider.value:\n",
    "        speed = 0.5\n",
    "    elif far_slider.value<r and r<near_slider.value:\n",
    "        speed = 0.2\n",
    "    elif near_slider.value<r:\n",
    "        speed = 0\n",
    "        \n",
    "    return speed\n",
    "\n",
    "def motor_control(x, y, r):\n",
    "    print(\"control\")\n",
    "    v = (x - 112) / 112\n",
    "    scale = sigmoid(abs(v))\n",
    "    \n",
    "    # speed = speed_slider.value\n",
    "    speed = set_speed(r)\n",
    "    left_speed = speed + v*speed*scale #左モーター出力\n",
    "    right_speed = speed - v*speed*scale #右モーター出力\n",
    "    robot.set_motors(left_speed,right_speed) #左右のモーター出力\n",
    "    move.append([left_speed,right_speed]) #配列に記録(後ろに追加)\n",
    "    \n",
    "    \n",
    "def motor_control_thread():\n",
    "    global x, y, r, lock\n",
    "\n",
    "    try:\n",
    "        while True:\n",
    "            toggle0 = GPIO.input(31) # トグルスイッチ左向き（記録モード）\n",
    "            toggle1 = GPIO.input(35) # トグルスイッチ右向き（実行モード）\n",
    "            button = GPIO.input(37) # 実行ボタンの入力を受け取る\n",
    "\n",
    "            if toggle0 == 0:#記録モード\n",
    "                with lock:\n",
    "                    # ロックを取得してからグローバル変数を読み取る\n",
    "                    local_x, local_y, local_r = x, y, r\n",
    "                print(\"loop\")\n",
    "                motor_control(local_x, local_y, local_r)\n",
    "                interval = interval_slider.value #間隔\n",
    "                time.sleep(interval)\n",
    "#                 if toggle0 == GPIO.LOW:\n",
    "#                     break\n",
    "                \n",
    "            elif toggle1 == GPIO.HIGH:  # 実行モード\n",
    "                before = button\n",
    "                now = button\n",
    "                if now == GPIO.HIGH and before == GPIO.LOW:  # LOW→HIGH（押した瞬間）を検知\n",
    "                    for i in move:\n",
    "                        robot.set_motors(move[i][0], move[i][1])\n",
    "                        time.sleep(interval)\n",
    "\n",
    "                before = now  # 前の状態を更新\n",
    "\n",
    "    except Exception as e:\n",
    "        print(f\"エラーが発生しました: {e}\")\n",
    "\n",
    "    finally:\n",
    "        # 例外が発生した場合も、モータを停止させる\n",
    "        robot.stop()\n",
    "        GPIO.cleanup()\n",
    "\n",
    "\n"
   ]
  },
  {
   "cell_type": "code",
   "execution_count": null,
   "metadata": {},
   "outputs": [],
   "source": []
  },
  {
   "cell_type": "code",
   "execution_count": null,
   "metadata": {},
   "outputs": [],
   "source": []
  }
 ],
 "metadata": {
  "kernelspec": {
   "display_name": "image",
   "language": "python",
   "name": "python3"
  },
  "language_info": {
   "name": "python",
   "version": "3.11.2"
  }
 },
 "nbformat": 4,
 "nbformat_minor": 2
}
