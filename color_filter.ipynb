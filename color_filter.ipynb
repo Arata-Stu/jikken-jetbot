{
 "cells": [
  {
   "cell_type": "code",
   "execution_count": null,
   "id": "83699eaa-7e7a-43c1-90aa-0e135d6c88a4",
   "metadata": {},
   "outputs": [],
   "source": [
    "def setback():\n",
    "    \"\"\"背景画像のパスのリストを生成する\"\"\"\n",
    "    \n",
    "    return [\"image path\" for i in range(10)]\n"
   ]
  },
  {
   "cell_type": "code",
   "execution_count": 8,
   "id": "85346302-e0e9-4c26-b4ef-a1da50efdef3",
   "metadata": {},
   "outputs": [],
   "source": [
    "import cv2\n",
    "import numpy as np\n",
    " \n",
    "\n",
    "    \n",
    "input_path = ''\n",
    "output_path = ''"
   ]
  },
  {
   "cell_type": "code",
   "execution_count": 6,
   "id": "e32e5d21-440c-48d6-a058-97d768191a91",
   "metadata": {},
   "outputs": [
    {
     "data": {
      "text/plain": [
       "True"
      ]
     },
     "execution_count": 6,
     "metadata": {},
     "output_type": "execute_result"
    }
   ],
   "source": [
    "def mask(input_path,output_path):\n",
    "    image = cv2.imread(input_path)\n",
    "\n",
    "    # BGRからHSV色空間に変換\n",
    "    hsv = cv2.cvtColor(image, cv2.COLOR_BGR2HSV)\n",
    "\n",
    "    # 黄色の範囲を定義（HSVで）\n",
    "    lower_yellow = np.array([20, 100, 100])\n",
    "    upper_yellow = np.array([30, 255, 255])\n",
    "\n",
    "    # HSV画像から黄色の部分のみをマスクとして作成\n",
    "    mask = cv2.inRange(hsv, lower_yellow, upper_yellow)\n",
    "\n",
    "    # マスクを元の画像に適用\n",
    "    yellow_only = cv2.bitwise_and(image, image, mask=mask)\n",
    "\n",
    "    cv2.imwrite(output_path, yellow_only)\n"
   ]
  },
  {
   "cell_type": "code",
   "execution_count": null,
   "id": "960a7829-41b1-4b8e-b880-5fc4729b9573",
   "metadata": {},
   "outputs": [],
   "source": []
  }
 ],
 "metadata": {
  "kernelspec": {
   "display_name": "Python 3 (ipykernel)",
   "language": "python",
   "name": "python3"
  },
  "language_info": {
   "codemirror_mode": {
    "name": "ipython",
    "version": 3
   },
   "file_extension": ".py",
   "mimetype": "text/x-python",
   "name": "python",
   "nbconvert_exporter": "python",
   "pygments_lexer": "ipython3",
   "version": "3.11.2"
  }
 },
 "nbformat": 4,
 "nbformat_minor": 5
}
